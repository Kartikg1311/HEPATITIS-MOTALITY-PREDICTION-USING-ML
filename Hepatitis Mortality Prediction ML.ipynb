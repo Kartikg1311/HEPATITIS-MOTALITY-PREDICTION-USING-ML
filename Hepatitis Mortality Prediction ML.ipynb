{
 "cells": [
  {
   "cell_type": "markdown",
   "id": "606b0317-cfa5-430f-86b0-ab74ede3aeda",
   "metadata": {
    "tags": []
   },
   "source": [
    "### Hepatitis Mortality Prediction Model Using ML"
   ]
  },
  {
   "cell_type": "code",
   "execution_count": 1,
   "id": "6d1ef14f-cf17-4998-bb46-ef536680b394",
   "metadata": {
    "tags": []
   },
   "outputs": [],
   "source": [
    "import pandas as pd\n",
    "import numpy as np\n",
    "import matplotlib.pyplot as plt\n",
    "import seaborn as sns"
   ]
  },
  {
   "cell_type": "code",
   "execution_count": 2,
   "id": "b51534a2-c200-4e42-96c1-348f74abb6c9",
   "metadata": {
    "tags": []
   },
   "outputs": [],
   "source": [
    "df=pd.read_csv(\"hepatitis001.csv\")"
   ]
  },
  {
   "cell_type": "code",
   "execution_count": 3,
   "id": "1be8f5e0-8996-42d2-bffd-54b1cf81aa31",
   "metadata": {
    "tags": []
   },
   "outputs": [
    {
     "name": "stdout",
     "output_type": "stream",
     "text": [
      "   class  age  sex  steroid  antivirals  fatigue  malaise  anorexia  \\\n",
      "0      2   31    1        1           2        1        1         1   \n",
      "1      2   16    1        1           2        2        1         1   \n",
      "2      2   42    1        1           2        1        2         2   \n",
      "3      2   26    1        1           2        1        2         2   \n",
      "4      2   46    1        1           2        1        1         2   \n",
      "\n",
      "   liver_big  liver_firm  spleen_palable  spiders  ascites  varices  \\\n",
      "0          2           2               2        2        2        2   \n",
      "1          2           1               2        1        2        1   \n",
      "2          1           1               2        2        2        2   \n",
      "3          2           1               2        1        2        2   \n",
      "4          2           1               1        1        2        2   \n",
      "\n",
      "   bilirubin  alk_phosphate  sgot  albumin  protime  histology  \n",
      "0       0.70            134    48     4.59       27          1  \n",
      "1       0.78            154   121     4.44       82          1  \n",
      "2       3.58             94   117     4.00       52          2  \n",
      "3       0.30            136   249     4.57       60          1  \n",
      "4       1.35            157   269     4.22       60          1  \n"
     ]
    }
   ],
   "source": [
    "print(df.head())"
   ]
  },
  {
   "cell_type": "code",
   "execution_count": 4,
   "id": "f4f8889d-ab2c-4bf0-9b0f-e26f19603a4b",
   "metadata": {
    "tags": []
   },
   "outputs": [
    {
     "data": {
      "text/plain": [
       "(5000, 20)"
      ]
     },
     "execution_count": 4,
     "metadata": {},
     "output_type": "execute_result"
    }
   ],
   "source": [
    "df.shape"
   ]
  },
  {
   "cell_type": "code",
   "execution_count": 5,
   "id": "f6afc0ed-69bf-42b7-ae60-283449779a57",
   "metadata": {
    "tags": []
   },
   "outputs": [
    {
     "data": {
      "text/plain": [
       "class               int64\n",
       "age                 int64\n",
       "sex                 int64\n",
       "steroid             int64\n",
       "antivirals          int64\n",
       "fatigue             int64\n",
       "malaise             int64\n",
       "anorexia            int64\n",
       "liver_big           int64\n",
       "liver_firm          int64\n",
       "spleen_palable      int64\n",
       "spiders             int64\n",
       "ascites             int64\n",
       "varices             int64\n",
       "bilirubin         float64\n",
       "alk_phosphate       int64\n",
       "sgot                int64\n",
       "albumin           float64\n",
       "protime             int64\n",
       "histology           int64\n",
       "dtype: object"
      ]
     },
     "execution_count": 5,
     "metadata": {},
     "output_type": "execute_result"
    }
   ],
   "source": [
    "df.dtypes"
   ]
  },
  {
   "cell_type": "code",
   "execution_count": 6,
   "id": "12ab8f60-e8d5-44f4-9109-209f5a8d6742",
   "metadata": {
    "tags": []
   },
   "outputs": [
    {
     "data": {
      "text/plain": [
       "class             0\n",
       "age               0\n",
       "sex               0\n",
       "steroid           0\n",
       "antivirals        0\n",
       "fatigue           0\n",
       "malaise           0\n",
       "anorexia          0\n",
       "liver_big         0\n",
       "liver_firm        0\n",
       "spleen_palable    0\n",
       "spiders           0\n",
       "ascites           0\n",
       "varices           0\n",
       "bilirubin         0\n",
       "alk_phosphate     0\n",
       "sgot              0\n",
       "albumin           0\n",
       "protime           0\n",
       "histology         0\n",
       "dtype: int64"
      ]
     },
     "execution_count": 6,
     "metadata": {},
     "output_type": "execute_result"
    }
   ],
   "source": [
    "df.isnull().sum()"
   ]
  },
  {
   "cell_type": "code",
   "execution_count": 7,
   "id": "1a879fbc-7e55-44e2-9b22-21fa15efb9a7",
   "metadata": {
    "tags": []
   },
   "outputs": [
    {
     "data": {
      "text/plain": [
       "class\n",
       "2    4335\n",
       "1     665\n",
       "Name: count, dtype: int64"
      ]
     },
     "execution_count": 7,
     "metadata": {},
     "output_type": "execute_result"
    }
   ],
   "source": [
    "df[\"class\"].value_counts()  # Live 2 And Dies 1"
   ]
  },
  {
   "cell_type": "code",
   "execution_count": 8,
   "id": "2cbb2bc6-1b12-48a6-92c0-ea37b83ad79b",
   "metadata": {
    "tags": []
   },
   "outputs": [
    {
     "name": "stdout",
     "output_type": "stream",
     "text": [
      "class             5000\n",
      "age               5000\n",
      "sex               5000\n",
      "steroid           5000\n",
      "antivirals        5000\n",
      "fatigue           5000\n",
      "malaise           5000\n",
      "anorexia          5000\n",
      "liver_big         5000\n",
      "liver_firm        5000\n",
      "spleen_palable    5000\n",
      "spiders           5000\n",
      "ascites           5000\n",
      "varices           5000\n",
      "bilirubin         5000\n",
      "alk_phosphate     5000\n",
      "sgot              5000\n",
      "albumin           5000\n",
      "protime           5000\n",
      "histology         5000\n",
      "dtype: int64\n"
     ]
    }
   ],
   "source": [
    "print(df.count())"
   ]
  },
  {
   "cell_type": "code",
   "execution_count": 9,
   "id": "0cee2864-c6d4-48f7-9029-29b3b3e89093",
   "metadata": {
    "tags": []
   },
   "outputs": [],
   "source": [
    "X = df.drop('class', axis=1)     # contains features\n",
    "y = df['class']        #Class contains Die(1) or Live(2)"
   ]
  },
  {
   "cell_type": "code",
   "execution_count": 10,
   "id": "39eb334a-611f-4915-abb9-ee27eb4cba64",
   "metadata": {
    "tags": []
   },
   "outputs": [
    {
     "name": "stdout",
     "output_type": "stream",
     "text": [
      "(5000, 19) (5000,)\n"
     ]
    }
   ],
   "source": [
    "print(X.shape,y.shape)"
   ]
  },
  {
   "cell_type": "code",
   "execution_count": 11,
   "id": "71d34f37-fa41-4425-b006-9943885509c9",
   "metadata": {
    "tags": []
   },
   "outputs": [],
   "source": [
    "### Apply the algorithm to balance the data set\n",
    "from imblearn.over_sampling import RandomOverSampler"
   ]
  },
  {
   "cell_type": "code",
   "execution_count": 12,
   "id": "61c055a5-2bc2-4245-8143-62790dfe827f",
   "metadata": {
    "tags": []
   },
   "outputs": [],
   "source": [
    "# Initialize the RandomOverSampler\n",
    "ros = RandomOverSampler(random_state=42)"
   ]
  },
  {
   "cell_type": "code",
   "execution_count": 13,
   "id": "bd6988f3-7eae-4dd6-acb7-a5ba37998b8f",
   "metadata": {
    "tags": []
   },
   "outputs": [],
   "source": [
    "# Fit and transform the data\n",
    "X_resampled, y_resampled = ros.fit_resample(X, y)\n",
    "\n",
    "# Create a new DataFrame with the resampled data\n",
    "df_resampled = pd.concat([pd.DataFrame(X_resampled, columns=X.columns), pd.Series(y_resampled, name='class')], axis=1)"
   ]
  },
  {
   "cell_type": "code",
   "execution_count": 14,
   "id": "f97036a2-ad44-48ef-9603-969bea026a71",
   "metadata": {
    "tags": []
   },
   "outputs": [
    {
     "data": {
      "text/plain": [
       "(8670, 20)"
      ]
     },
     "execution_count": 14,
     "metadata": {},
     "output_type": "execute_result"
    }
   ],
   "source": [
    "df_resampled.shape"
   ]
  },
  {
   "cell_type": "code",
   "execution_count": 15,
   "id": "c029f540-725b-44c5-bc66-f3e182fc4edf",
   "metadata": {
    "tags": []
   },
   "outputs": [
    {
     "data": {
      "text/plain": [
       "age                 int64\n",
       "sex                 int64\n",
       "steroid             int64\n",
       "antivirals          int64\n",
       "fatigue             int64\n",
       "malaise             int64\n",
       "anorexia            int64\n",
       "liver_big           int64\n",
       "liver_firm          int64\n",
       "spleen_palable      int64\n",
       "spiders             int64\n",
       "ascites             int64\n",
       "varices             int64\n",
       "bilirubin         float64\n",
       "alk_phosphate       int64\n",
       "sgot                int64\n",
       "albumin           float64\n",
       "protime             int64\n",
       "histology           int64\n",
       "class               int64\n",
       "dtype: object"
      ]
     },
     "execution_count": 15,
     "metadata": {},
     "output_type": "execute_result"
    }
   ],
   "source": [
    "df_resampled.dtypes"
   ]
  },
  {
   "cell_type": "code",
   "execution_count": 16,
   "id": "4ec041de-ce8d-4710-a4c5-712213cc4a7d",
   "metadata": {
    "tags": []
   },
   "outputs": [
    {
     "name": "stdout",
     "output_type": "stream",
     "text": [
      "age               0\n",
      "sex               0\n",
      "steroid           0\n",
      "antivirals        0\n",
      "fatigue           0\n",
      "malaise           0\n",
      "anorexia          0\n",
      "liver_big         0\n",
      "liver_firm        0\n",
      "spleen_palable    0\n",
      "spiders           0\n",
      "ascites           0\n",
      "varices           0\n",
      "bilirubin         0\n",
      "alk_phosphate     0\n",
      "sgot              0\n",
      "albumin           0\n",
      "protime           0\n",
      "histology         0\n",
      "class             0\n",
      "dtype: int64\n"
     ]
    }
   ],
   "source": [
    "print(df_resampled.isnull().sum())"
   ]
  },
  {
   "cell_type": "code",
   "execution_count": 17,
   "id": "7b0b8dde-5e17-4d56-9232-76f218f84086",
   "metadata": {
    "tags": []
   },
   "outputs": [
    {
     "name": "stdout",
     "output_type": "stream",
     "text": [
      "4335\n"
     ]
    }
   ],
   "source": [
    "print((df_resampled[\"class\"]==1).sum())"
   ]
  },
  {
   "cell_type": "code",
   "execution_count": 18,
   "id": "82dfc4e1-ce12-454f-9db1-0d0341c4d34f",
   "metadata": {
    "tags": []
   },
   "outputs": [
    {
     "data": {
      "text/plain": [
       "class\n",
       "2    4335\n",
       "1    4335\n",
       "Name: count, dtype: int64"
      ]
     },
     "execution_count": 18,
     "metadata": {},
     "output_type": "execute_result"
    }
   ],
   "source": [
    "df_resampled[\"class\"].value_counts()"
   ]
  },
  {
   "cell_type": "code",
   "execution_count": 19,
   "id": "69bcd7cc-ce96-4936-b0fa-92c48298a9f5",
   "metadata": {
    "tags": []
   },
   "outputs": [],
   "source": [
    "X = df_resampled.drop('class', axis=1)     # contains features\n",
    "y = df_resampled['class']        #Class contains Die(1) or Live(2)"
   ]
  },
  {
   "cell_type": "code",
   "execution_count": 20,
   "id": "4a322233-8234-4052-ab9b-346983354943",
   "metadata": {
    "tags": []
   },
   "outputs": [
    {
     "name": "stdout",
     "output_type": "stream",
     "text": [
      "(8670, 19) (8670,)\n"
     ]
    }
   ],
   "source": [
    "print(X.shape,y.shape)"
   ]
  },
  {
   "cell_type": "code",
   "execution_count": 21,
   "id": "b9e0bb9e-c3fa-483f-9f54-ddefb7d2cff6",
   "metadata": {
    "tags": []
   },
   "outputs": [],
   "source": [
    "labels = [\"Less than 10\",\"10-20\",\"20-30\",\"30-40\",\"40-50\",\"50-60\",\"60-70\",\"70 and more\"]\n",
    "bins=[0,10,20,30,40,50,60,70,80]\n",
    "freq_df = df_resampled.groupby(pd.cut(df_resampled['age'],bins=bins,labels=labels)).size()"
   ]
  },
  {
   "cell_type": "code",
   "execution_count": 22,
   "id": "70d25397-7e06-4fc0-a844-ba1c90a9b9db",
   "metadata": {
    "tags": []
   },
   "outputs": [
    {
     "data": {
      "text/plain": [
       "age\n",
       "Less than 10       7\n",
       "10-20            218\n",
       "20-30           1007\n",
       "30-40           2005\n",
       "40-50           2262\n",
       "50-60           1805\n",
       "60-70            903\n",
       "70 and more      463\n",
       "dtype: int64"
      ]
     },
     "execution_count": 22,
     "metadata": {},
     "output_type": "execute_result"
    }
   ],
   "source": [
    "freq_df"
   ]
  },
  {
   "cell_type": "code",
   "execution_count": 23,
   "id": "629ff674-2449-4128-a48e-c353467a5f1c",
   "metadata": {
    "tags": []
   },
   "outputs": [
    {
     "data": {
      "text/html": [
       "<div>\n",
       "<style scoped>\n",
       "    .dataframe tbody tr th:only-of-type {\n",
       "        vertical-align: middle;\n",
       "    }\n",
       "\n",
       "    .dataframe tbody tr th {\n",
       "        vertical-align: top;\n",
       "    }\n",
       "\n",
       "    .dataframe thead th {\n",
       "        text-align: right;\n",
       "    }\n",
       "</style>\n",
       "<table border=\"1\" class=\"dataframe\">\n",
       "  <thead>\n",
       "    <tr style=\"text-align: right;\">\n",
       "      <th></th>\n",
       "      <th>age</th>\n",
       "      <th>count</th>\n",
       "    </tr>\n",
       "  </thead>\n",
       "  <tbody>\n",
       "    <tr>\n",
       "      <th>0</th>\n",
       "      <td>Less than 10</td>\n",
       "      <td>7</td>\n",
       "    </tr>\n",
       "    <tr>\n",
       "      <th>1</th>\n",
       "      <td>10-20</td>\n",
       "      <td>218</td>\n",
       "    </tr>\n",
       "    <tr>\n",
       "      <th>2</th>\n",
       "      <td>20-30</td>\n",
       "      <td>1007</td>\n",
       "    </tr>\n",
       "    <tr>\n",
       "      <th>3</th>\n",
       "      <td>30-40</td>\n",
       "      <td>2005</td>\n",
       "    </tr>\n",
       "    <tr>\n",
       "      <th>4</th>\n",
       "      <td>40-50</td>\n",
       "      <td>2262</td>\n",
       "    </tr>\n",
       "    <tr>\n",
       "      <th>5</th>\n",
       "      <td>50-60</td>\n",
       "      <td>1805</td>\n",
       "    </tr>\n",
       "    <tr>\n",
       "      <th>6</th>\n",
       "      <td>60-70</td>\n",
       "      <td>903</td>\n",
       "    </tr>\n",
       "    <tr>\n",
       "      <th>7</th>\n",
       "      <td>70 and more</td>\n",
       "      <td>463</td>\n",
       "    </tr>\n",
       "  </tbody>\n",
       "</table>\n",
       "</div>"
      ],
      "text/plain": [
       "            age  count\n",
       "0  Less than 10      7\n",
       "1         10-20    218\n",
       "2         20-30   1007\n",
       "3         30-40   2005\n",
       "4         40-50   2262\n",
       "5         50-60   1805\n",
       "6         60-70    903\n",
       "7   70 and more    463"
      ]
     },
     "execution_count": 23,
     "metadata": {},
     "output_type": "execute_result"
    }
   ],
   "source": [
    "freq_df=freq_df.reset_index(name='count')\n",
    "freq_df"
   ]
  },
  {
   "cell_type": "code",
   "execution_count": 24,
   "id": "68133812-431f-4706-8c29-d49c9d62314f",
   "metadata": {
    "tags": []
   },
   "outputs": [
    {
     "data": {
      "text/plain": [
       "<Axes: >"
      ]
     },
     "execution_count": 24,
     "metadata": {},
     "output_type": "execute_result"
    },
    {
     "data": {
      "image/png": "[encoded data removed]",
      "text/plain": [
       "<Figure size 640x480 with 1 Axes>"
      ]
     },
     "metadata": {},
     "output_type": "display_data"
    }
   ],
   "source": [
    "freq_df.plot(kind='bar')"
   ]
  },
  {
   "cell_type": "code",
   "execution_count": 25,
   "id": "ca8f54fd-81d5-4650-bb50-b3e370fac6a4",
   "metadata": {
    "tags": []
   },
   "outputs": [
    {
     "data": {
      "image/png": "[encoded data removed]",
      "text/plain": [
       "<Figure size 640x480 with 1 Axes>"
      ]
     },
     "metadata": {},
     "output_type": "display_data"
    }
   ],
   "source": [
    "# Plot of Freq Table\n",
    "\n",
    "plt.bar(freq_df['age'],freq_df['count'])\n",
    "plt.ylabel('Counts')\n",
    "plt.title('Frequency Count of Age')\n",
    "plt.show()"
   ]
  },
  {
   "cell_type": "code",
   "execution_count": 26,
   "id": "8cac18ee-6791-4983-bffe-1eb2cd36e438",
   "metadata": {
    "tags": []
   },
   "outputs": [],
   "source": [
    "# Train Test Split \n",
    "from sklearn.model_selection import train_test_split\n",
    "X_train, X_test, y_train, y_test = train_test_split(X, y, test_size=0.2, random_state=42)"
   ]
  },
  {
   "cell_type": "markdown",
   "id": "c371f9ff-1bc1-4272-be9c-29a16804a7dd",
   "metadata": {},
   "source": [
    "### MACHINE LEARNING ALGORITHM"
   ]
  },
  {
   "cell_type": "code",
   "execution_count": 27,
   "id": "4193ee0f-2f40-4c44-b2ee-f717222d1456",
   "metadata": {
    "tags": []
   },
   "outputs": [],
   "source": [
    "from sklearn.tree import DecisionTreeClassifier\n",
    "from sklearn.neighbors import KNeighborsClassifier\n",
    "from sklearn.linear_model import LogisticRegression\n",
    "from sklearn.ensemble import RandomForestClassifier\n",
    "from sklearn.svm import SVC\n",
    "from sklearn.naive_bayes import GaussianNB\n",
    "from catboost import CatBoostClassifier"
   ]
  },
  {
   "cell_type": "code",
   "execution_count": 28,
   "id": "b7cc0771-0e2b-4bce-93a6-5c04007035b5",
   "metadata": {
    "tags": []
   },
   "outputs": [],
   "source": [
    "from sklearn.metrics import accuracy_score, classification_report, confusion_matrix, precision_recall_fscore_support"
   ]
  },
  {
   "cell_type": "code",
   "execution_count": 29,
   "id": "b49933f6-fa31-4888-9b22-33254786b1df",
   "metadata": {
    "tags": []
   },
   "outputs": [],
   "source": [
    "clf=DecisionTreeClassifier()\n",
    "knn=KNeighborsClassifier()\n",
    "lr=LogisticRegression()\n",
    "rf=RandomForestClassifier()\n",
    "svm=SVC()\n",
    "nb=GaussianNB()\n",
    "cat = CatBoostClassifier(iterations=500, depth=10, learning_rate=0.05, loss_function='Logloss')"
   ]
  },
  {
   "cell_type": "code",
   "execution_count": 30,
   "id": "eca3de20-9237-42f4-8e45-c69554bbb767",
   "metadata": {
    "tags": []
   },
   "outputs": [
    {
     "name": "stderr",
     "output_type": "stream",
     "text": [
      "C:\\Users\\DELL\\anaconda3\\Lib\\site-packages\\sklearn\\linear_model\\_logistic.py:460: ConvergenceWarning: lbfgs failed to converge (status=1):\n",
      "STOP: TOTAL NO. of ITERATIONS REACHED LIMIT.\n",
      "\n",
      "Increase the number of iterations (max_iter) or scale the data as shown in:\n",
      "    https://scikit-learn.org/stable/modules/preprocessing.html\n",
      "Please also refer to the documentation for alternative solver options:\n",
      "    https://scikit-learn.org/stable/modules/linear_model.html#logistic-regression\n",
      "  n_iter_i = _check_optimize_result(\n"
     ]
    },
    {
     "name": "stdout",
     "output_type": "stream",
     "text": [
      "0:\tlearn: 0.6876753\ttest: 0.6876811\tbest: 0.6876811 (0)\ttotal: 179ms\tremaining: 1m 29s\n",
      "100:\tlearn: 0.2628615\ttest: 0.2628854\tbest: 0.2628854 (100)\ttotal: 3.46s\tremaining: 13.7s\n",
      "200:\tlearn: 0.1381532\ttest: 0.1381909\tbest: 0.1381909 (200)\ttotal: 6.77s\tremaining: 10.1s\n",
      "300:\tlearn: 0.0817029\ttest: 0.0817411\tbest: 0.0817411 (300)\ttotal: 10.1s\tremaining: 6.66s\n",
      "400:\tlearn: 0.0528326\ttest: 0.0528665\tbest: 0.0528665 (400)\ttotal: 13.4s\tremaining: 3.3s\n",
      "499:\tlearn: 0.0363766\ttest: 0.0364043\tbest: 0.0364043 (499)\ttotal: 16.6s\tremaining: 0us\n",
      "\n",
      "bestTest = 0.03640428839\n",
      "bestIteration = 499\n",
      "\n"
     ]
    },
    {
     "data": {
      "text/plain": [
       "<catboost.core.CatBoostClassifier at 0x2231e6a7f10>"
      ]
     },
     "execution_count": 30,
     "metadata": {},
     "output_type": "execute_result"
    }
   ],
   "source": [
    "clf.fit(X_resampled,y_resampled)\n",
    "knn.fit(X_resampled,y_resampled)\n",
    "lr.fit(X_resampled,y_resampled)\n",
    "rf.fit(X_resampled,y_resampled)\n",
    "svm.fit(X_resampled,y_resampled)\n",
    "nb.fit(X_resampled,y_resampled)\n",
    "cat.fit(X_resampled,y_resampled, eval_set=(X_resampled, y_resampled), early_stopping_rounds=50, verbose=100)"
   ]
  },
  {
   "cell_type": "code",
   "execution_count": 31,
   "id": "6eb3815f-0031-4bd0-9325-fd1f6313d300",
   "metadata": {
    "tags": []
   },
   "outputs": [],
   "source": [
    "y_pred1=clf.predict(X_resampled)\n",
    "y_pred2=knn.predict(X_resampled)\n",
    "y_pred3=lr.predict(X_resampled)\n",
    "y_pred4=rf.predict(X_resampled)\n",
    "y_pred5=svm.predict(X_resampled)\n",
    "y_pred6=nb.predict(X_resampled)\n",
    "y_pred7=cat.predict(X_resampled)"
   ]
  },
  {
   "cell_type": "code",
   "execution_count": 32,
   "id": "de34cc74-8c23-4190-bbdc-7be9d24bde28",
   "metadata": {
    "tags": []
   },
   "outputs": [],
   "source": [
    "acc1=accuracy_score(y_resampled,y_pred1)\n",
    "acc2=accuracy_score(y_resampled,y_pred2)\n",
    "acc3=accuracy_score(y_resampled,y_pred3)\n",
    "acc4=accuracy_score(y_resampled,y_pred4)\n",
    "acc5=accuracy_score(y_resampled,y_pred5)\n",
    "acc6=accuracy_score(y_resampled,y_pred6)\n",
    "acc7=accuracy_score(y_resampled,y_pred7)"
   ]
  },
  {
   "cell_type": "code",
   "execution_count": 33,
   "id": "86b2fa36-af73-485d-8f5e-7c386aba19b3",
   "metadata": {
    "tags": []
   },
   "outputs": [
    {
     "name": "stdout",
     "output_type": "stream",
     "text": [
      "CLF Accuracy: 1.00\n",
      "KNN Accuracy: 0.87\n",
      "LR Accuracy: 0.54\n",
      "RF Accuracy: 1.00\n",
      "SVM Accuracy: 0.52\n",
      "NB Accuracy: 0.54\n",
      "CAT Accuracy: 1.00\n"
     ]
    }
   ],
   "source": [
    "print(f\"CLF Accuracy: {acc1:.2f}\")\n",
    "print(f\"KNN Accuracy: {acc2:.2f}\")\n",
    "print(f\"LR Accuracy: {acc3:.2f}\")\n",
    "print(f\"RF Accuracy: {acc4:.2f}\")\n",
    "print(f\"SVM Accuracy: {acc5:.2f}\")\n",
    "print(f\"NB Accuracy: {acc6:.2f}\")\n",
    "print(f\"CAT Accuracy: {acc7:.2f}\")"
   ]
  },
  {
   "cell_type": "code",
   "execution_count": 34,
   "id": "faef3938-630c-4373-9bc6-06211a3f4d59",
   "metadata": {
    "tags": []
   },
   "outputs": [],
   "source": [
    "# Define a function for performance analysis\n",
    "def evaluate_model(y_true, y_pred):\n",
    "    # Confusion matrix\n",
    "    cm = confusion_matrix(y_true, y_pred)\n",
    "    print(\"Confusion Matrix:\\n\", cm)\n",
    "\n",
    "    # Classification report\n",
    "    print(\"\\nClassification Report:\\n\", classification_report(y_true, y_pred))\n",
    "\n",
    "    # Accuracy\n",
    "    accuracy = accuracy_score(y_true, y_pred)\n",
    "    print(f\"\\nAccuracy: {accuracy:.2f}\")\n",
    "\n",
    "    # Precision, Recall, F-beta score\n",
    "    precision, recall, fbeta, _ = precision_recall_fscore_support(y_true, y_pred, beta=1, average='binary')\n",
    "    print(f\"Precision: {precision:.2f}\")\n",
    "    print(f\"Recall: {recall:.2f}\")\n",
    "    print(f\"F-beta Score: {fbeta:.2f}\")\n",
    "    \n",
    "    \n",
    "    # True positives, false positives, true negatives, false negatives\n",
    "    tn, fp, fn, tp = cm.ravel()\n",
    "\n",
    "    # False Positive Rate (FPR)\n",
    "    fpr = fp / (fp + tn)\n",
    "\n",
    "    # False Negative Rate (FNR)\n",
    "    fnr = fn / (fn + tp)\n",
    "\n",
    "    #print(\"False Positive Rate (FPR):\", fpr)\n",
    "    #print(\"False Negative Rate (FNR):\", fnr)\n",
    "    print(f\"False Positive Rate (FPR): {fpr:.2f}\")\n",
    "    print(f\"False Negative Rate (FNR): {fnr:.2f}\")\n",
    "    \n",
    "    sns.heatmap(cm, annot=True, fmt=\"d\", cmap=\"Reds\", cbar=True, \n",
    "            xticklabels=['Predicted 1', 'Predicted 2'], \n",
    "            yticklabels=['Actual 1', 'Actual 2'])\n",
    "    plt.xlabel(\"Predicted Label\")\n",
    "    plt.ylabel(\"True Label\")\n",
    "    plt.show()"
   ]
  },
  {
   "cell_type": "code",
   "execution_count": 35,
   "id": "2ebc6d06-c929-440b-8166-40f8c8531e2a",
   "metadata": {},
   "outputs": [
    {
     "name": "stdout",
     "output_type": "stream",
     "text": [
      "Decision Tree Classifier:\n",
      "Confusion Matrix:\n",
      " [[4335    0]\n",
      " [   0 4335]]\n",
      "\n",
      "Classification Report:\n",
      "               precision    recall  f1-score   support\n",
      "\n",
      "           1       1.00      1.00      1.00      4335\n",
      "           2       1.00      1.00      1.00      4335\n",
      "\n",
      "    accuracy                           1.00      8670\n",
      "   macro avg       1.00      1.00      1.00      8670\n",
      "weighted avg       1.00      1.00      1.00      8670\n",
      "\n",
      "\n",
      "Accuracy: 1.00\n",
      "Precision: 1.00\n",
      "Recall: 1.00\n",
      "F-beta Score: 1.00\n",
      "False Positive Rate (FPR): 0.00\n",
      "False Negative Rate (FNR): 0.00\n"
     ]
    },
    {
     "data": {
      "image/png": "[encoded data removed]",
      "text/plain": [
       "<Figure size 640x480 with 2 Axes>"
      ]
     },
     "metadata": {},
     "output_type": "display_data"
    },
    {
     "name": "stdout",
     "output_type": "stream",
     "text": [
      "\n",
      "K-Nearest Neighbors:\n",
      "Confusion Matrix:\n",
      " [[4305   30]\n",
      " [1056 3279]]\n",
      "\n",
      "Classification Report:\n",
      "               precision    recall  f1-score   support\n",
      "\n",
      "           1       0.80      0.99      0.89      4335\n",
      "           2       0.99      0.76      0.86      4335\n",
      "\n",
      "    accuracy                           0.87      8670\n",
      "   macro avg       0.90      0.87      0.87      8670\n",
      "weighted avg       0.90      0.87      0.87      8670\n",
      "\n",
      "\n",
      "Accuracy: 0.87\n",
      "Precision: 0.80\n",
      "Recall: 0.99\n",
      "F-beta Score: 0.89\n",
      "False Positive Rate (FPR): 0.01\n",
      "False Negative Rate (FNR): 0.24\n"
     ]
    },
    {
     "data": {
      "image/png": "[encoded data removed]",
      "text/plain": [
       "<Figure size 640x480 with 2 Axes>"
      ]
     },
     "metadata": {},
     "output_type": "display_data"
    },
    {
     "name": "stdout",
     "output_type": "stream",
     "text": [
      "\n",
      "Logistic Regression:\n",
      "Confusion Matrix:\n",
      " [[2138 2197]\n",
      " [1806 2529]]\n",
      "\n",
      "Classification Report:\n",
      "               precision    recall  f1-score   support\n",
      "\n",
      "           1       0.54      0.49      0.52      4335\n",
      "           2       0.54      0.58      0.56      4335\n",
      "\n",
      "    accuracy                           0.54      8670\n",
      "   macro avg       0.54      0.54      0.54      8670\n",
      "weighted avg       0.54      0.54      0.54      8670\n",
      "\n",
      "\n",
      "Accuracy: 0.54\n",
      "Precision: 0.54\n",
      "Recall: 0.49\n",
      "F-beta Score: 0.52\n",
      "False Positive Rate (FPR): 0.51\n",
      "False Negative Rate (FNR): 0.42\n"
     ]
    },
    {
     "data": {
      "image/png": "[encoded data removed]",
      "text/plain": [
       "<Figure size 640x480 with 2 Axes>"
      ]
     },
     "metadata": {},
     "output_type": "display_data"
    },
    {
     "name": "stdout",
     "output_type": "stream",
     "text": [
      "\n",
      "Random Forest Classifier:\n",
      "Confusion Matrix:\n",
      " [[4335    0]\n",
      " [   0 4335]]\n",
      "\n",
      "Classification Report:\n",
      "               precision    recall  f1-score   support\n",
      "\n",
      "           1       1.00      1.00      1.00      4335\n",
      "           2       1.00      1.00      1.00      4335\n",
      "\n",
      "    accuracy                           1.00      8670\n",
      "   macro avg       1.00      1.00      1.00      8670\n",
      "weighted avg       1.00      1.00      1.00      8670\n",
      "\n",
      "\n",
      "Accuracy: 1.00\n",
      "Precision: 1.00\n",
      "Recall: 1.00\n",
      "F-beta Score: 1.00\n",
      "False Positive Rate (FPR): 0.00\n",
      "False Negative Rate (FNR): 0.00\n"
     ]
    },
    {
     "data": {
      "image/png": "[encoded data removed]",
      "text/plain": [
       "<Figure size 640x480 with 2 Axes>"
      ]
     },
     "metadata": {},
     "output_type": "display_data"
    },
    {
     "name": "stdout",
     "output_type": "stream",
     "text": [
      "\n",
      "Support Vector Machine:\n",
      "Confusion Matrix:\n",
      " [[1947 2388]\n",
      " [1808 2527]]\n",
      "\n",
      "Classification Report:\n",
      "               precision    recall  f1-score   support\n",
      "\n",
      "           1       0.52      0.45      0.48      4335\n",
      "           2       0.51      0.58      0.55      4335\n",
      "\n",
      "    accuracy                           0.52      8670\n",
      "   macro avg       0.52      0.52      0.51      8670\n",
      "weighted avg       0.52      0.52      0.51      8670\n",
      "\n",
      "\n",
      "Accuracy: 0.52\n",
      "Precision: 0.52\n",
      "Recall: 0.45\n",
      "F-beta Score: 0.48\n",
      "False Positive Rate (FPR): 0.55\n",
      "False Negative Rate (FNR): 0.42\n"
     ]
    },
    {
     "data": {
      "image/png": "[encoded data removed]",
      "text/plain": [
       "<Figure size 640x480 with 2 Axes>"
      ]
     },
     "metadata": {},
     "output_type": "display_data"
    },
    {
     "name": "stdout",
     "output_type": "stream",
     "text": [
      "\n",
      "Naive Bayes:\n",
      "Confusion Matrix:\n",
      " [[1929 2406]\n",
      " [1624 2711]]\n",
      "\n",
      "Classification Report:\n",
      "               precision    recall  f1-score   support\n",
      "\n",
      "           1       0.54      0.44      0.49      4335\n",
      "           2       0.53      0.63      0.57      4335\n",
      "\n",
      "    accuracy                           0.54      8670\n",
      "   macro avg       0.54      0.54      0.53      8670\n",
      "weighted avg       0.54      0.54      0.53      8670\n",
      "\n",
      "\n",
      "Accuracy: 0.54\n",
      "Precision: 0.54\n",
      "Recall: 0.44\n",
      "F-beta Score: 0.49\n",
      "False Positive Rate (FPR): 0.56\n",
      "False Negative Rate (FNR): 0.37\n"
     ]
    },
    {
     "data": {
      "image/png": "[encoded data removed]",
      "text/plain": [
       "<Figure size 640x480 with 2 Axes>"
      ]
     },
     "metadata": {},
     "output_type": "display_data"
    },
    {
     "name": "stdout",
     "output_type": "stream",
     "text": [
      "\n",
      "CatBoost Classifier:\n",
      "Confusion Matrix:\n",
      " [[4335    0]\n",
      " [   0 4335]]\n",
      "\n",
      "Classification Report:\n",
      "               precision    recall  f1-score   support\n",
      "\n",
      "           1       1.00      1.00      1.00      4335\n",
      "           2       1.00      1.00      1.00      4335\n",
      "\n",
      "    accuracy                           1.00      8670\n",
      "   macro avg       1.00      1.00      1.00      8670\n",
      "weighted avg       1.00      1.00      1.00      8670\n",
      "\n",
      "\n",
      "Accuracy: 1.00\n",
      "Precision: 1.00\n",
      "Recall: 1.00\n",
      "F-beta Score: 1.00\n",
      "False Positive Rate (FPR): 0.00\n",
      "False Negative Rate (FNR): 0.00\n"
     ]
    },
    {
     "data": {
      "image/png": "[encoded data removed]",
      "text/plain": [
       "<Figure size 640x480 with 2 Axes>"
      ]
     },
     "metadata": {},
     "output_type": "display_data"
    }
   ],
   "source": [
    "# Evaluate each model\n",
    "print(\"Decision Tree Classifier:\")\n",
    "evaluate_model(y_resampled, y_pred1)\n",
    "\n",
    "print(\"\\nK-Nearest Neighbors:\")\n",
    "evaluate_model(y_resampled, y_pred2)\n",
    "\n",
    "print(\"\\nLogistic Regression:\")\n",
    "evaluate_model(y_resampled, y_pred3)\n",
    "\n",
    "print(\"\\nRandom Forest Classifier:\")\n",
    "evaluate_model(y_resampled, y_pred4)\n",
    "\n",
    "print(\"\\nSupport Vector Machine:\")\n",
    "evaluate_model(y_resampled, y_pred5)\n",
    "\n",
    "print(\"\\nNaive Bayes:\")\n",
    "evaluate_model(y_resampled, y_pred6)\n",
    "\n",
    "print(\"\\nCatBoost Classifier:\")\n",
    "evaluate_model(y_resampled, y_pred7)"
   ]
  },
  {
   "cell_type": "code",
   "execution_count": 36,
   "id": "ecb1f93e-ccdf-4c65-8717-52193d662508",
   "metadata": {},
   "outputs": [],
   "source": [
    "# Using Joblib\n",
    "import joblib"
   ]
  },
  {
   "cell_type": "code",
   "execution_count": 37,
   "id": "ea784e86-71f2-48d3-8799-ea76ca6265b1",
   "metadata": {
    "tags": []
   },
   "outputs": [],
   "source": [
    "model_file1= open(\"Decision_tree_classifier.pkl\",\"wb\")\n",
    "joblib.dump(clf,model_file1)\n",
    "model_file1.close()"
   ]
  },
  {
   "cell_type": "code",
   "execution_count": 38,
   "id": "8bd0bd72-ec5b-4193-a2ad-96aa979b0759",
   "metadata": {
    "tags": []
   },
   "outputs": [],
   "source": [
    "model_file2= open(\"K_neighbors_classifier.pkl\",\"wb\")\n",
    "joblib.dump(knn,model_file2)\n",
    "model_file2.close()"
   ]
  },
  {
   "cell_type": "code",
   "execution_count": 39,
   "id": "e53eb45f-541b-4559-98d4-a51d5750f84f",
   "metadata": {
    "tags": []
   },
   "outputs": [],
   "source": [
    "model_file3= open(\"Random_forest_classifier.pkl\",\"wb\")\n",
    "joblib.dump(rf,model_file3)\n",
    "model_file3.close()"
   ]
  },
  {
   "cell_type": "code",
   "execution_count": null,
   "id": "f712878b-91e6-4e47-aabd-3f25acf63e89",
   "metadata": {},
   "outputs": [],
   "source": []
  }
 ],
 "metadata": {
  "kernelspec": {
   "display_name": "Python 3 (ipykernel)",
   "language": "python",
   "name": "python3"
  },
  "language_info": {
   "codemirror_mode": {
    "name": "ipython",
    "version": 3
   },
   "file_extension": ".py",
   "mimetype": "text/x-python",
   "name": "python",
   "nbconvert_exporter": "python",
   "pygments_lexer": "ipython3",
   "version": "3.11.5"
  }
 },
 "nbformat": 4,
 "nbformat_minor": 5
}
